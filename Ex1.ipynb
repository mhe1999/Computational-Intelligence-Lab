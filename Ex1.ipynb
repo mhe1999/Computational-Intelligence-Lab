{
 "cells": [
  {
   "cell_type": "markdown",
   "metadata": {},
   "source": [
    "# Import modules"
   ]
  },
  {
   "cell_type": "code",
   "execution_count": 83,
   "metadata": {},
   "outputs": [],
   "source": [
    "import pandas as pd \n",
    "import numpy as np \n",
    "import matplotlib.pyplot as plt"
   ]
  },
  {
   "cell_type": "markdown",
   "metadata": {},
   "source": [
    "# Load data"
   ]
  },
  {
   "cell_type": "code",
   "execution_count": 139,
   "metadata": {},
   "outputs": [],
   "source": [
    "def load_data(path):\n",
    "    data_pd = pd.read_csv(path, header = None)\n",
    "    data = data_pd.values\n",
    "    X_inital = data[:,0].reshape(-1,1)\n",
    "    X = np.append(np.ones((97,1)) , X_inital, axis = 1) # Add a column of ones to x\n",
    "\n",
    "    Y = data[:,1].reshape(-1,1)\n",
    "    \n",
    "    return X, Y\n",
    "\n",
    "X, Y = load_data(\"ex1data1.txt\")\n",
    "\n",
    "m = X.shape[0]\n",
    "dim = X.shape[1]"
   ]
  },
  {
   "cell_type": "code",
   "execution_count": 140,
   "metadata": {},
   "outputs": [
    {
     "name": "stdout",
     "output_type": "stream",
     "text": [
      "data shape: (97, 2)\n",
      "X shpae: (97, 2)\n",
      "Y shape: (97, 1)\n",
      "m: 97\n",
      "dim: 2\n"
     ]
    }
   ],
   "source": [
    "# path = \"ex1data1.txt\"\n",
    "print('data shape:', data.shape)\n",
    "print('X shpae:', X.shape)\n",
    "print('Y shape:', Y.shape)\n",
    "print('m:', m)\n",
    "print('dim:', dim)"
   ]
  },
  {
   "cell_type": "markdown",
   "metadata": {},
   "source": [
    "# Visualize the data"
   ]
  },
  {
   "cell_type": "code",
   "execution_count": 141,
   "metadata": {},
   "outputs": [
    {
     "data": {
      "text/plain": [
       "Text(0, 0.5, 'Population of City in 10,000s')"
      ]
     },
     "execution_count": 141,
     "metadata": {},
     "output_type": "execute_result"
    },
    {
     "data": {
      "image/png": "[encoded data removed]",
      "text/plain": [
       "<Figure size 432x288 with 1 Axes>"
      ]
     },
     "metadata": {
      "needs_background": "light"
     },
     "output_type": "display_data"
    }
   ],
   "source": [
    "plt.plot(X[:,1],Y,'x', markersize=6)\n",
    "plt.xlabel(\"Profit in $10,000s\")\n",
    "plt.ylabel(\"Population of City in 10,000s\")"
   ]
  },
  {
   "cell_type": "markdown",
   "metadata": {},
   "source": [
    "# Initial parameters"
   ]
  },
  {
   "cell_type": "markdown",
   "metadata": {},
   "source": [
    "theta = np.zeros((dim,1))\n",
    "iteration = 1500\n",
    "alpha = 0.01"
   ]
  },
  {
   "cell_type": "markdown",
   "metadata": {},
   "source": [
    "# compute cost"
   ]
  },
  {
   "cell_type": "code",
   "execution_count": 127,
   "metadata": {},
   "outputs": [],
   "source": [
    "def compute_cost(X,Y, theta):\n",
    "    m = X.shape[0]\n",
    "    J = 0\n",
    "\n",
    "    h = np.dot(X, theta)\n",
    "    J = (1/(2*m)) * np.sum(np.power(h-Y,2))\n",
    "    return J"
   ]
  },
  {
   "cell_type": "code",
   "execution_count": 129,
   "metadata": {},
   "outputs": [
    {
     "name": "stdout",
     "output_type": "stream",
     "text": [
      "32.072733877455676\n",
      "54.24245508201238\n"
     ]
    }
   ],
   "source": [
    "print(compute_cost(X,Y,theta))\n",
    "print(compute_cost(X,Y,[[-1], [2]]))"
   ]
  },
  {
   "cell_type": "markdown",
   "metadata": {},
   "source": [
    "expected outputs are 32.07 and 54.24"
   ]
  },
  {
   "cell_type": "markdown",
   "metadata": {},
   "source": [
    "# Gradient descent"
   ]
  },
  {
   "cell_type": "code",
   "execution_count": 130,
   "metadata": {},
   "outputs": [],
   "source": [
    "def gradient_descent(X, Y, theta, alpha, iteration):\n",
    "    m = X.shape[0]\n",
    "    history = np.zeros(iteration)\n",
    "    \n",
    "    for i in range(iteration):\n",
    "        \n",
    "        h = np.dot(X, theta)\n",
    "\n",
    "        gradJ = (1/m) * np.dot(X.T, h-Y)\n",
    "        theta = theta - alpha * gradJ\n",
    "        \n",
    "        history[i] = compute_cost(X, Y, theta)\n",
    "        \n",
    "    return theta, history\n",
    "\n",
    "theta, history = gradient_descent(X, Y, theta, alpha, iteration)"
   ]
  },
  {
   "cell_type": "code",
   "execution_count": 132,
   "metadata": {},
   "outputs": [
    {
     "name": "stdout",
     "output_type": "stream",
     "text": [
      "[[-3.63029144]\n",
      " [ 1.16636235]]\n"
     ]
    }
   ],
   "source": [
    "print(theta)"
   ]
  },
  {
   "cell_type": "markdown",
   "metadata": {},
   "source": [
    "expected output is [[-3.63029144]\n",
    " [ 1.16636235]]"
   ]
  },
  {
   "cell_type": "markdown",
   "metadata": {},
   "source": [
    "# visualize cost function and predicted line"
   ]
  },
  {
   "cell_type": "code",
   "execution_count": 135,
   "metadata": {},
   "outputs": [
    {
     "data": {
      "text/plain": [
       "Text(0, 0.5, 'Cost')"
      ]
     },
     "execution_count": 135,
     "metadata": {},
     "output_type": "execute_result"
    },
    {
     "data": {
      "image/png": "[encoded data removed]",
      "text/plain": [
       "<Figure size 432x288 with 1 Axes>"
      ]
     },
     "metadata": {
      "needs_background": "light"
     },
     "output_type": "display_data"
    }
   ],
   "source": [
    "plt.plot(history)\n",
    "plt.xlabel(\"Iteration\")\n",
    "plt.ylabel(\"Cost\")"
   ]
  },
  {
   "cell_type": "code",
   "execution_count": 142,
   "metadata": {},
   "outputs": [
    {
     "data": {
      "text/plain": [
       "Text(0, 0.5, 'Population of City in 10,000s')"
      ]
     },
     "execution_count": 142,
     "metadata": {},
     "output_type": "execute_result"
    },
    {
     "data": {
      "image/png": "[encoded data removed]",
      "text/plain": [
       "<Figure size 432x288 with 1 Axes>"
      ]
     },
     "metadata": {
      "needs_background": "light"
     },
     "output_type": "display_data"
    }
   ],
   "source": [
    "plt.plot(X[:,1],Y,'x', markersize=6)\n",
    "\n",
    "xt = np.linspace(5,22.5,100)\n",
    "yt = theta[0] + theta[1] * xt\n",
    "plt.plot(xt,yt)\n",
    "\n",
    "plt.xlabel(\"Profit in $10,000s\")\n",
    "plt.ylabel(\"Population of City in 10,000s\")"
   ]
  },
  {
   "cell_type": "markdown",
   "metadata": {},
   "source": [
    "# Todo List:\n",
    "* linear regression with multiple variables\n",
    "* feature normalization\n",
    "* testing different learning rate\n",
    "* normal equations"
   ]
  }
 ],
 "metadata": {
  "kernelspec": {
   "display_name": "Python 3",
   "language": "python",
   "name": "python3"
  },
  "language_info": {
   "codemirror_mode": {
    "name": "ipython",
    "version": 3
   },
   "file_extension": ".py",
   "mimetype": "text/x-python",
   "name": "python",
   "nbconvert_exporter": "python",
   "pygments_lexer": "ipython3",
   "version": "3.7.9"
  }
 },
 "nbformat": 4,
 "nbformat_minor": 4
}
